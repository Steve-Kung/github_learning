{
 "cells": [
  {
   "cell_type": "markdown",
   "metadata": {},
   "source": [
    "# Github第一讲"
   ]
  },
  {
   "cell_type": "markdown",
   "metadata": {},
   "source": [
    "如果你是一枚Coder，但是你不知道Github，那么我觉的你就不是一个菜鸟级别的Coder，因为你压根不是真正Coder，你只是一个Code搬运工。——github简明教程"
   ]
  },
  {
   "cell_type": "markdown",
   "metadata": {},
   "source": [
    "## 什么是 Github?"
   ]
  },
  {
   "cell_type": "markdown",
   "metadata": {},
   "source": [
    "github是一个基于git的代码托管平台，付费用户可以建私人仓库，我们一般的免费用户只能使用公共仓库，也就是代码要公开。"
   ]
  },
  {
   "cell_type": "markdown",
   "metadata": {},
   "source": [
    "## 开始准备条件"
   ]
  },
  {
   "cell_type": "markdown",
   "metadata": {},
   "source": [
    "1. github官网注册账号\n",
    "2. Create a New Repository，填好名称后Create，之后会出现一些仓库的配置信息\n",
    "3. Git安装"
   ]
  },
  {
   "cell_type": "markdown",
   "metadata": {},
   "source": [
    "## 配置Git"
   ]
  },
  {
   "cell_type": "markdown",
   "metadata": {},
   "source": [
    "安装完成后，还需要最后一步设置，在命令行输入："
   ]
  },
  {
   "cell_type": "raw",
   "metadata": {},
   "source": [
    "$ git config --global user.name \"Your Name\"\n",
    "$ git config --global user.email \"email@example.com\""
   ]
  },
  {
   "cell_type": "markdown",
   "metadata": {},
   "source": [
    "因为Git是分布式版本控制系统，所以，每个机器都必须自报家门：你的名字和Email地址。"
   ]
  },
  {
   "cell_type": "markdown",
   "metadata": {},
   "source": [
    "注意```git config```命令的```--global```参数，用了这个参数，表示你这台机器上所有的Git仓库都会使用这个配置，当然也可以对某个仓库指定不同的用户名和Email地址。"
   ]
  },
  {
   "cell_type": "markdown",
   "metadata": {},
   "source": [
    "## 创建版本库"
   ]
  },
  {
   "cell_type": "markdown",
   "metadata": {},
   "source": [
    "什么是版本库呢？版本库又名仓库，英文名repository，你可以简单理解成一个目录，这个目录里面的所有文件都可以被Git管理起来，每个文件的修改、删除，Git都能跟踪，以便任何时刻都可以追踪历史，或者在将来某个时刻可以“还原”。"
   ]
  },
  {
   "cell_type": "markdown",
   "metadata": {},
   "source": [
    "所以，创建一个版本库非常简单，首先，选择一个合适的地方，创建一个空目录："
   ]
  },
  {
   "cell_type": "raw",
   "metadata": {},
   "source": [
    "$ mkdir learngit\n",
    "$ cd learngit"
   ]
  },
  {
   "cell_type": "markdown",
   "metadata": {},
   "source": [
    "```!!! ```如果你使用Windows系统，为了避免遇到各种莫名其妙的问题，请确保目录名（包括父目录）不包含中文。"
   ]
  },
  {
   "cell_type": "markdown",
   "metadata": {},
   "source": [
    "第二步，通过```git init```命令把这个目录变成Git可以管理的仓库："
   ]
  },
  {
   "cell_type": "markdown",
   "metadata": {},
   "source": [
    "瞬间Git就把仓库建好了，而且告诉你是一个空的仓库（empty Git repository），细心的读者可以发现当前目录下多了一个```.git```的目录，这个目录是Git来跟踪管理版本库的，没事千万不要手动修改这个目录里面的文件，不然改乱了，就把Git仓库给破坏了。"
   ]
  },
  {
   "cell_type": "markdown",
   "metadata": {},
   "source": [
    "如果你没有看到```.git```目录，那是因为这个目录默认是隐藏的，用```ls -ah```命令就可以看见。"
   ]
  },
  {
   "cell_type": "markdown",
   "metadata": {},
   "source": [
    "第三步，把文件添加到版本库"
   ]
  },
  {
   "cell_type": "markdown",
   "metadata": {},
   "source": [
    "建议你下载Notepad++代替记事本，不但功能强大，而且免费！记得把Notepad++的默认编码设置为UTF-8 without BOM即可："
   ]
  },
  {
   "cell_type": "markdown",
   "metadata": {},
   "source": [
    "言归正传，现在我们编写一个readme.txt文件，内容随意"
   ]
  },
  {
   "cell_type": "markdown",
   "metadata": {},
   "source": [
    "一定要放到learngit目录下（子目录也行），因为这是一个Git仓库，放到其他地方Git再厉害也找不到这个文件。\n",
    "\n",
    "和把大象放到冰箱需要3步相比，把一个文件放到Git仓库只需要两步。"
   ]
  },
  {
   "cell_type": "markdown",
   "metadata": {},
   "source": [
    "第一步，用命令```git add```告诉Git，把文件添加到仓库："
   ]
  },
  {
   "cell_type": "raw",
   "metadata": {},
   "source": [
    "$ git add readme.txt"
   ]
  },
  {
   "cell_type": "markdown",
   "metadata": {},
   "source": [
    "执行上面的命令，没有任何显示，这就对了，Unix的哲学是“没有消息就是好消息”，说明添加成功。"
   ]
  },
  {
   "cell_type": "markdown",
   "metadata": {},
   "source": [
    "第二步，用命令```git commit```告诉Git，把文件提交到仓库："
   ]
  },
  {
   "cell_type": "raw",
   "metadata": {},
   "source": [
    "$ git commit -m \"wrote a readme file\"\n",
    "[master (root-commit) eaadf4e] wrote a readme file\n",
    " 1 file changed, 2 insertions(+)\n",
    " create mode 100644 readme.txt"
   ]
  },
  {
   "cell_type": "markdown",
   "metadata": {},
   "source": [
    "简单解释一下```git commit```命令，```-m```后面输入的是本次提交的说明，可以输入任意内容，当然最好是有意义的，这样你就能从历史记录里方便地找到改动记录。"
   ]
  },
  {
   "cell_type": "markdown",
   "metadata": {},
   "source": [
    "```git commit```命令执行成功后会告诉你，```1 file changed```：1个文件被改动（我们新添加的readme.txt文件）；```2 insertions```：插入了两行内容（readme.txt有两行内容）。"
   ]
  },
  {
   "cell_type": "markdown",
   "metadata": {},
   "source": [
    "为什么Git添加文件需要add，commit一共两步呢？因为commit可以一次提交很多文件，所以你可以多次add不同的文件，比如："
   ]
  },
  {
   "cell_type": "raw",
   "metadata": {},
   "source": [
    "$ git add file1.txt\n",
    "$ git add file2.txt file3.txt\n",
    "$ git commit -m \"add 3 files.\""
   ]
  },
  {
   "cell_type": "markdown",
   "metadata": {},
   "source": [
    "## 时光机穿梭"
   ]
  },
  {
   "cell_type": "markdown",
   "metadata": {},
   "source": [
    "我们已经成功地添加并提交了一个readme.txt文件，现在，是时候继续工作了，于是，我们继续修改readme.txt文件，改成如下内容："
   ]
  },
  {
   "cell_type": "raw",
   "metadata": {},
   "source": [
    "Git is a distributed version control system.\n",
    "Git is free software."
   ]
  },
  {
   "cell_type": "markdown",
   "metadata": {},
   "source": [
    "现在，运行```git status```命令看看结果："
   ]
  },
  {
   "cell_type": "raw",
   "metadata": {},
   "source": [
    "$ git status\n",
    "On branch master\n",
    "Changes not staged for commit:\n",
    "  (use \"git add <file>...\" to update what will be committed)\n",
    "  (use \"git checkout -- <file>...\" to discard changes in working directory)\n",
    "\n",
    "    modified:   readme.txt\n",
    "\n",
    "no changes added to commit (use \"git add\" and/or \"git commit -a\")"
   ]
  },
  {
   "cell_type": "markdown",
   "metadata": {},
   "source": [
    "```git status```命令可以让我们时刻掌握仓库当前的状态，上面的命令输出告诉我们，readme.txt被修改过了，但还没有准备提交的修改。"
   ]
  },
  {
   "cell_type": "markdown",
   "metadata": {},
   "source": [
    "虽然Git告诉我们```readme.txt```被修改了，但如果能看看具体修改了什么内容，自然是很好的。比如你休假两周从国外回来，第一天上班时，已经记不清上次怎么修改的```readme.txt```，所以，需要用```git diff```这个命令看看："
   ]
  },
  {
   "cell_type": "raw",
   "metadata": {},
   "source": [
    "$ git diff readme.txt \n",
    "diff --git a/readme.txt b/readme.txt\n",
    "index 46d49bf..9247db6 100644\n",
    "--- a/readme.txt\n",
    "+++ b/readme.txt\n",
    "@@ -1,2 +1,2 @@\n",
    "-Git is a version control system.\n",
    "+Git is a distributed version control system.\n",
    " Git is free software."
   ]
  },
  {
   "cell_type": "markdown",
   "metadata": {},
   "source": [
    "```git diff```顾名思义就是查看difference，显示的格式正是Unix通用的diff格式，可以从上面的命令输出看到，我们在第一行添加了一个```distributed```单词。"
   ]
  },
  {
   "cell_type": "markdown",
   "metadata": {},
   "source": [
    "知道了对```readme.txt```作了什么修改后，再把它提交到仓库就放心多了，提交修改和提交新文件是一样的两步，第一步是```git add```："
   ]
  },
  {
   "cell_type": "raw",
   "metadata": {},
   "source": [
    "$ git add readme.txt"
   ]
  },
  {
   "cell_type": "markdown",
   "metadata": {},
   "source": [
    "同样没有任何输出。在执行第二步```git commit```之前，我们再运行```git status```看看当前仓库的状态："
   ]
  },
  {
   "cell_type": "raw",
   "metadata": {},
   "source": [
    "$ git status\n",
    "On branch master\n",
    "Changes to be committed:\n",
    "  (use \"git reset HEAD <file>...\" to unstage)\n",
    "\n",
    "    modified:   readme.txt"
   ]
  },
  {
   "cell_type": "markdown",
   "metadata": {},
   "source": [
    "```git status```告诉我们，将要被提交的修改包括```readme.txt```，下一步，就可以放心地提交了："
   ]
  },
  {
   "cell_type": "raw",
   "metadata": {},
   "source": [
    "$ git commit -m \"add distributed\"\n",
    "[master e475afc] add distributed\n",
    " 1 file changed, 1 insertion(+), 1 deletion(-)"
   ]
  },
  {
   "cell_type": "markdown",
   "metadata": {},
   "source": [
    "提交后，我们再用```git status```命令看看仓库的当前状态："
   ]
  },
  {
   "cell_type": "raw",
   "metadata": {},
   "source": [
    "$ git status\n",
    "On branch master\n",
    "nothing to commit, working tree clean"
   ]
  },
  {
   "cell_type": "markdown",
   "metadata": {},
   "source": [
    "Git告诉我们当前没有需要提交的修改，而且，工作目录是干净（working tree clean）的。"
   ]
  },
  {
   "cell_type": "markdown",
   "metadata": {},
   "source": [
    "## 版本回退"
   ]
  },
  {
   "cell_type": "markdown",
   "metadata": {},
   "source": [
    "现在，你已经学会了修改文件，然后把修改提交到Git版本库，现在，再练习一次，修改readme.txt文件如下："
   ]
  },
  {
   "cell_type": "raw",
   "metadata": {},
   "source": [
    "Git is a distributed version control system.\n",
    "Git is free software distributed under the GPL."
   ]
  },
  {
   "cell_type": "markdown",
   "metadata": {},
   "source": [
    "然后尝试提交："
   ]
  },
  {
   "cell_type": "raw",
   "metadata": {},
   "source": [
    "$ git add readme.txt\n",
    "$ git commit -m \"append GPL\"\n",
    "[master 1094adb] append GPL\n",
    " 1 file changed, 1 insertion(+), 1 deletion(-)"
   ]
  },
  {
   "cell_type": "markdown",
   "metadata": {},
   "source": [
    "Git也是一样，每当你觉得文件修改到一定程度的时候，就可以“保存一个快照”，这个快照在Git中被称为commit。一旦你把文件改乱了，或者误删了文件，还可以从最近的一个commit恢复，然后继续工作，而不是把几个月的工作成果全部丢失。"
   ]
  },
  {
   "cell_type": "markdown",
   "metadata": {},
   "source": [
    "现在，我们回顾一下```readme.txt```文件一共有几个版本被提交到Git仓库里了："
   ]
  },
  {
   "cell_type": "markdown",
   "metadata": {},
   "source": [
    "版本1：wrote a readme file"
   ]
  },
  {
   "cell_type": "raw",
   "metadata": {},
   "source": [
    "Git is a version control system.\n",
    "Git is free software."
   ]
  },
  {
   "cell_type": "markdown",
   "metadata": {},
   "source": [
    "版本2：add distributed"
   ]
  },
  {
   "cell_type": "raw",
   "metadata": {},
   "source": [
    "Git is a distributed version control system.\n",
    "Git is free software."
   ]
  },
  {
   "cell_type": "markdown",
   "metadata": {},
   "source": [
    "版本3：append GPL"
   ]
  },
  {
   "cell_type": "raw",
   "metadata": {},
   "source": [
    "Git is a distributed version control system.\n",
    "Git is free software distributed under the GPL."
   ]
  },
  {
   "cell_type": "markdown",
   "metadata": {},
   "source": [
    "当然了，在实际工作中，我们脑子里怎么可能记得一个几千行的文件每次都改了什么内容，不然要版本控制系统干什么。版本控制系统肯定有某个命令可以告诉我们历史记录，在Git中，我们用```git log```命令查看："
   ]
  },
  {
   "cell_type": "raw",
   "metadata": {},
   "source": [
    "$ git log\n",
    "commit 1094adb7b9b3807259d8cb349e7df1d4d6477073 (HEAD -> master)\n",
    "Author: Michael Liao <askxuefeng@gmail.com>\n",
    "Date:   Fri May 18 21:06:15 2018 +0800\n",
    "\n",
    "    append GPL\n",
    "\n",
    "commit e475afc93c209a690c39c13a46716e8fa000c366\n",
    "Author: Michael Liao <askxuefeng@gmail.com>\n",
    "Date:   Fri May 18 21:03:36 2018 +0800\n",
    "\n",
    "    add distributed\n",
    "\n",
    "commit eaadf4e385e865d25c48e7ca9c8395c3f7dfaef0\n",
    "Author: Michael Liao <askxuefeng@gmail.com>\n",
    "Date:   Fri May 18 20:59:18 2018 +0800\n",
    "\n",
    "    wrote a readme file"
   ]
  },
  {
   "cell_type": "markdown",
   "metadata": {},
   "source": [
    "```git log```命令显示从最近到最远的提交日志，我们可以看到3次提交，最近的一次是```append GPL```，上一次是```add distributed```，最早的一次是```wrote a readme file```。"
   ]
  },
  {
   "cell_type": "markdown",
   "metadata": {},
   "source": [
    "好了，现在我们启动时光穿梭机，准备把```readme.txt```回退到上一个版本，也就是```add distributed```的那个版本，怎么做呢？"
   ]
  },
  {
   "cell_type": "markdown",
   "metadata": {},
   "source": [
    "首先，Git必须知道当前版本是哪个版本，在Git中，用```HEAD```表示当前版本，也就是最新的提交```1094adb...```（注意我的提交ID和你的肯定不一样），上一个版本就是```HEAD^```，上上一个版本就是```HEAD^^```，当然往上100个版本写100个^比较容易数不过来，所以写成```HEAD~100```。"
   ]
  },
  {
   "cell_type": "markdown",
   "metadata": {},
   "source": [
    "现在，我们要把当前版本```append GPL```回退到上一个版本```add distributed```，就可以使用```git reset```命令："
   ]
  },
  {
   "cell_type": "raw",
   "metadata": {},
   "source": [
    "$ git reset --hard HEAD^\n",
    "HEAD is now at e475afc add distributed"
   ]
  },
  {
   "cell_type": "markdown",
   "metadata": {},
   "source": [
    "--hard参数有啥意义？这个后面再讲，现在你先放心使用。"
   ]
  },
  {
   "cell_type": "markdown",
   "metadata": {},
   "source": [
    "看看```readme.txt```的内容是不是版本```add distributed```："
   ]
  },
  {
   "cell_type": "raw",
   "metadata": {},
   "source": [
    "$ cat readme.txt\n",
    "Git is a distributed version control system.\n",
    "Git is free software."
   ]
  },
  {
   "cell_type": "markdown",
   "metadata": {},
   "source": [
    "果然被还原了。"
   ]
  },
  {
   "cell_type": "markdown",
   "metadata": {},
   "source": [
    "还可以继续回退到上一个版本```wrote a readme file```，不过且慢，然我们用```git log```再看看现在版本库的状态："
   ]
  },
  {
   "cell_type": "raw",
   "metadata": {},
   "source": [
    "$ git log\n",
    "commit e475afc93c209a690c39c13a46716e8fa000c366 (HEAD -> master)\n",
    "Author: Michael Liao <askxuefeng@gmail.com>\n",
    "Date:   Fri May 18 21:03:36 2018 +0800\n",
    "\n",
    "    add distributed\n",
    "\n",
    "commit eaadf4e385e865d25c48e7ca9c8395c3f7dfaef0\n",
    "Author: Michael Liao <askxuefeng@gmail.com>\n",
    "Date:   Fri May 18 20:59:18 2018 +0800\n",
    "\n",
    "    wrote a readme file"
   ]
  },
  {
   "cell_type": "markdown",
   "metadata": {},
   "source": [
    "最新的那个版本```append GPL```已经看不到了！好比你从21世纪坐时光穿梭机来到了19世纪，想再回去已经回不去了，肿么办？"
   ]
  },
  {
   "cell_type": "markdown",
   "metadata": {},
   "source": [
    "办法其实还是有的，只要上面的命令行窗口还没有被关掉，你就可以顺着往上找啊找啊，找到那个```append GPL```的```commit id```是```1094adb...```，于是就可以指定回到未来的某个版本："
   ]
  },
  {
   "cell_type": "raw",
   "metadata": {},
   "source": [
    "$ git reset --hard 1094a\n",
    "HEAD is now at 83b0afe append GPL"
   ]
  },
  {
   "cell_type": "markdown",
   "metadata": {},
   "source": [
    "版本号没必要写全，前几位就可以了，Git会自动去找。当然也不能只写前一两位，因为Git可能会找到多个版本号，就无法确定是哪一个了。"
   ]
  },
  {
   "cell_type": "markdown",
   "metadata": {},
   "source": [
    "再小心翼翼地看看```readme.txt```的内容："
   ]
  },
  {
   "cell_type": "raw",
   "metadata": {},
   "source": [
    "$ cat readme.txt\n",
    "Git is a distributed version control system.\n",
    "Git is free software distributed under the GPL."
   ]
  },
  {
   "cell_type": "markdown",
   "metadata": {},
   "source": [
    "果然，我胡汉三又回来了。"
   ]
  },
  {
   "cell_type": "markdown",
   "metadata": {},
   "source": [
    "Git的版本回退速度非常快，因为Git在内部有个指向当前版本的```HEAD```指针，当你回退版本的时候，Git仅仅是把```HEAD```从指向```append GPL```："
   ]
  },
  {
   "attachments": {
    "image.png": {
     "image/png": "[encoded data removed]"
    }
   },
   "cell_type": "markdown",
   "metadata": {},
   "source": [
    "![image.png](attachment:image.png)"
   ]
  },
  {
   "cell_type": "markdown",
   "metadata": {},
   "source": [
    "改为指向```add distributed```："
   ]
  },
  {
   "attachments": {
    "image.png": {
     "image/png": "[encoded data removed]"
    }
   },
   "cell_type": "markdown",
   "metadata": {},
   "source": [
    "![image.png](attachment:image.png)"
   ]
  },
  {
   "cell_type": "markdown",
   "metadata": {},
   "source": [
    "然后顺便把工作区的文件更新了。所以你让```HEAD```指向哪个版本号，你就把当前版本定位在哪。"
   ]
  },
  {
   "cell_type": "markdown",
   "metadata": {},
   "source": [
    "现在，你回退到了某个版本，关掉了电脑，第二天早上就后悔了，想恢复到新版本怎么办？找不到新版本的```commit id```怎么办？"
   ]
  },
  {
   "cell_type": "markdown",
   "metadata": {},
   "source": [
    "在Git中，总是有后悔药可以吃的。当你用```$ git reset --hard HEAD^```回退到```add distributed```版本时，再想恢复到```append GPL```，就必须找到```append GPL```的```commit id```。Git提供了一个命令```git reflog```用来记录你的每一次命令："
   ]
  },
  {
   "cell_type": "raw",
   "metadata": {},
   "source": [
    "$ git reflog\n",
    "e475afc HEAD@{1}: reset: moving to HEAD^\n",
    "1094adb (HEAD -> master) HEAD@{2}: commit: append GPL\n",
    "e475afc HEAD@{3}: commit: add distributed\n",
    "eaadf4e HEAD@{4}: commit (initial): wrote a readme file"
   ]
  },
  {
   "cell_type": "markdown",
   "metadata": {},
   "source": [
    "终于舒了口气，从输出可知，```append GPL```的```commit id```是```1094adb```，现在，你又可以乘坐时光机回到未来了。"
   ]
  },
  {
   "cell_type": "markdown",
   "metadata": {},
   "source": [
    "## 工作区和暂存区"
   ]
  },
  {
   "cell_type": "markdown",
   "metadata": {},
   "source": [
    "工作区（Working Directory）"
   ]
  },
  {
   "cell_type": "markdown",
   "metadata": {},
   "source": [
    "就是你在电脑里能看到的目录，比如我的```learngit```文件夹就是一个工作区："
   ]
  },
  {
   "cell_type": "markdown",
   "metadata": {},
   "source": [
    "版本库（Repository）"
   ]
  },
  {
   "cell_type": "markdown",
   "metadata": {},
   "source": [
    "工作区有一个隐藏目录```.git```，这个不算工作区，而是Git的版本库。"
   ]
  },
  {
   "cell_type": "markdown",
   "metadata": {},
   "source": [
    "Git的版本库里存了很多东西，其中最重要的就是称为```stage```（或者叫```index```）的暂存区，还有Git为我们自动创建的第一个分支```master```，以及指向```master```的一个指针叫```HEAD```。"
   ]
  },
  {
   "attachments": {
    "image.png": {
     "image/png": "[encoded data removed]"
    }
   },
   "cell_type": "markdown",
   "metadata": {},
   "source": [
    "![image.png](attachment:image.png)"
   ]
  },
  {
   "cell_type": "markdown",
   "metadata": {},
   "source": [
    "前面讲了我们把文件往Git版本库里添加的时候，是分两步执行的："
   ]
  },
  {
   "cell_type": "markdown",
   "metadata": {},
   "source": [
    "第一步是用```git add```把文件添加进去，实际上就是把文件修改添加到暂存区；"
   ]
  },
  {
   "cell_type": "markdown",
   "metadata": {},
   "source": [
    "二步是用```git commit```提交更改，实际上就是把暂存区的所有内容提交到当前分支。"
   ]
  },
  {
   "cell_type": "markdown",
   "metadata": {},
   "source": [
    "因为我们创建Git版本库时，Git自动为我们创建了唯一一个```master```分支，所以，现在，```git commit```就是往```master```分支上提交更改。"
   ]
  },
  {
   "cell_type": "markdown",
   "metadata": {},
   "source": [
    "你可以简单理解为，需要提交的文件修改通通放到暂存区，然后，一次性提交暂存区的所有修改。"
   ]
  },
  {
   "cell_type": "markdown",
   "metadata": {},
   "source": [
    "暂存区是Git非常重要的概念，弄明白了暂存区，就弄明白了Git的很多操作到底干了什么。"
   ]
  },
  {
   "cell_type": "markdown",
   "metadata": {},
   "source": [
    "## 管理修改"
   ]
  },
  {
   "cell_type": "markdown",
   "metadata": {},
   "source": [
    "Git跟踪并管理的是修改，而非文件。"
   ]
  },
  {
   "cell_type": "markdown",
   "metadata": {},
   "source": [
    "你会问，什么是修改？比如你新增了一行，这就是一个修改，删除了一行，也是一个修改，更改了某些字符，也是一个修改，删了一些又加了一些，也是一个修改，甚至创建一个新文件，也算一个修改。"
   ]
  },
  {
   "cell_type": "markdown",
   "metadata": {},
   "source": [
    "每次修改，如果不用```git add```到暂存区，那就不会加入到```commit```中。"
   ]
  },
  {
   "cell_type": "markdown",
   "metadata": {},
   "source": [
    "## 撤销修改"
   ]
  },
  {
   "cell_type": "markdown",
   "metadata": {},
   "source": [
    "```git checkout -- file```可以丢弃工作区的修改："
   ]
  },
  {
   "cell_type": "raw",
   "metadata": {},
   "source": [
    "$ git checkout -- readme.txt"
   ]
  },
  {
   "cell_type": "markdown",
   "metadata": {},
   "source": [
    "命令`git checkout -- readme.txt`意思就是，把`readme.txt`文件在工作区的修改全部撤销，这里有两种情况：\n",
    "\n",
    "一种是`readme.txt`自修改后还没有被放到暂存区，现在，撤销修改就回到和版本库一模一样的状态；\n",
    "\n",
    "一种是`readme.txt`已经添加到暂存区后，又作了修改，现在，撤销修改就回到添加到暂存区后的状态。\n",
    "\n",
    "总之，就是让这个文件回到最近一次`git commit`或`git add`时的状态。"
   ]
  },
  {
   "cell_type": "markdown",
   "metadata": {},
   "source": [
    "`git checkout -- file`命令中的`--`很重要，没有`--`，就变成了“切换到另一个分支”的命令，我们在后面的分支管理中会再次遇到`git checkout`命令。"
   ]
  },
  {
   "cell_type": "markdown",
   "metadata": {},
   "source": [
    "`git reset`命令既可以回退版本，也可以把暂存区的修改回退到工作区。当我们用`HEAD`时，表示最新的版本。"
   ]
  },
  {
   "cell_type": "markdown",
   "metadata": {},
   "source": [
    "场景1：当你改乱了工作区某个文件的内容，想直接丢弃工作区的修改时，用命令`git checkout -- file。`\n",
    "\n",
    "场景2：当你不但改乱了工作区某个文件的内容，还添加到了暂存区时，想丢弃修改，分两步，第一步用命令`git reset HEAD <file>`，就回到了场景1，第二步按场景1操作。\n",
    "\n",
    "场景3：已经提交了不合适的修改到版本库时，想要撤销本次提交，参考版本回退一节，不过前提是没有推送到远程库。"
   ]
  },
  {
   "cell_type": "markdown",
   "metadata": {},
   "source": [
    "## 删除文件"
   ]
  },
  {
   "cell_type": "markdown",
   "metadata": {},
   "source": [
    "一般情况下，你通常直接在文件管理器中把没用的文件删了，或者用`rm`命令删了："
   ]
  },
  {
   "cell_type": "markdown",
   "metadata": {},
   "source": [
    "这个时候，Git知道你删除了文件，因此，工作区和版本库就不一致了，`git status`命令会立刻告诉你哪些文件被删除了："
   ]
  },
  {
   "cell_type": "raw",
   "metadata": {},
   "source": [
    "$ git status\n",
    "On branch master\n",
    "Changes not staged for commit:\n",
    "  (use \"git add/rm <file>...\" to update what will be committed)\n",
    "  (use \"git checkout -- <file>...\" to discard changes in working directory)\n",
    "\n",
    "    deleted:    test.txt\n",
    "\n",
    "no changes added to commit (use \"git add\" and/or \"git commit -a\")"
   ]
  },
  {
   "cell_type": "markdown",
   "metadata": {},
   "source": [
    "现在你有两个选择，一是确实要从版本库中删除该文件，那就用命令`git rm`删掉，并且`git commit`："
   ]
  },
  {
   "cell_type": "raw",
   "metadata": {},
   "source": [
    "$ git rm test.txt\n",
    "rm 'test.txt'\n",
    "\n",
    "$ git commit -m \"remove test.txt\"\n",
    "[master d46f35e] remove test.txt\n",
    " 1 file changed, 1 deletion(-)\n",
    " delete mode 100644 test.txt"
   ]
  },
  {
   "cell_type": "markdown",
   "metadata": {},
   "source": [
    "现在，文件就从版本库中被删除了。"
   ]
  },
  {
   "cell_type": "markdown",
   "metadata": {},
   "source": [
    "另一种情况是删错了，因为版本库里还有呢，所以可以很轻松地把误删的文件恢复到最新版本："
   ]
  },
  {
   "cell_type": "raw",
   "metadata": {},
   "source": [
    "$ git checkout -- test.txt"
   ]
  },
  {
   "cell_type": "markdown",
   "metadata": {},
   "source": [
    "`git checkout`其实是用版本库里的版本替换工作区的版本，无论工作区是修改还是删除，都可以“一键还原”。"
   ]
  },
  {
   "cell_type": "markdown",
   "metadata": {},
   "source": [
    "## 远程仓库"
   ]
  },
  {
   "cell_type": "markdown",
   "metadata": {},
   "source": [
    "实际情况往往是这样，找一台电脑充当服务器的角色，每天24小时开机，其他每个人都从这个“服务器”仓库克隆一份到自己的电脑上，并且各自把各自的提交推送到服务器仓库里，也从服务器仓库中拉取别人的提交。"
   ]
  },
  {
   "cell_type": "markdown",
   "metadata": {},
   "source": [
    "只要注册一个GitHub账号，就可以免费获得Git远程仓库。"
   ]
  },
  {
   "cell_type": "markdown",
   "metadata": {},
   "source": [
    "由于你的本地Git仓库和GitHub仓库之间的传输是通过SSH加密的，所以，需要一点设置："
   ]
  },
  {
   "cell_type": "markdown",
   "metadata": {},
   "source": [
    "第1步：创建SSH Key。在用户主目录下，看看有没有`.ssh`目录，如果有，再看看这个目录下有没有`id_rsa`和`id_rsa.pub`这两个文件，如果已经有了，可直接跳到下一步。如果没有，打开Shell（Windows下打开Git Bash），创建SSH Key："
   ]
  },
  {
   "cell_type": "raw",
   "metadata": {},
   "source": [
    "$ ssh-keygen -t rsa -C \"youremail@example.com\""
   ]
  },
  {
   "cell_type": "markdown",
   "metadata": {},
   "source": [
    "你需要把邮件地址换成你自己的github注册邮件地址，然后一路回车，使用默认值即可，由于这个Key也不是用于军事目的，所以也无需设置密码。"
   ]
  },
  {
   "cell_type": "markdown",
   "metadata": {},
   "source": [
    "如果一切顺利的话，可以在用户主目录里找到`.ssh`目录，里面有`id_rsa`和`id_rsa.pub`两个文件，这两个就是SSH Key的秘钥对，`id_rsa`是私钥，不能泄露出去，`id_rsa.pub`是公钥，可以放心地告诉任何人。"
   ]
  },
  {
   "cell_type": "markdown",
   "metadata": {},
   "source": [
    "第2步：登陆GitHub，打开“Account settings”，“SSH Keys”页面："
   ]
  },
  {
   "cell_type": "markdown",
   "metadata": {},
   "source": [
    "然后，点“Add SSH Key”，填上任意Title，在Key文本框里粘贴`id_rsa.pub`文件的内容："
   ]
  },
  {
   "cell_type": "markdown",
   "metadata": {},
   "source": [
    "点“Add Key”，你就应该看到已经添加的Key："
   ]
  },
  {
   "cell_type": "markdown",
   "metadata": {},
   "source": [
    "为什么GitHub需要SSH Key呢？因为GitHub需要识别出你推送的提交确实是你推送的，而不是别人冒充的，而Git支持SSH协议，所以，GitHub只要知道了你的公钥，就可以确认只有你自己才能推送。"
   ]
  },
  {
   "cell_type": "markdown",
   "metadata": {},
   "source": [
    "当然，GitHub允许你添加多个Key。假定你有若干电脑，你一会儿在公司提交，一会儿在家里提交，只要把每台电脑的Key都添加到GitHub，就可以在每台电脑上往GitHub推送了。"
   ]
  },
  {
   "cell_type": "markdown",
   "metadata": {},
   "source": [
    "最后友情提示，在GitHub上免费托管的Git仓库，任何人都可以看到喔（但只有你自己才能改）。所以，不要把敏感信息放进去。"
   ]
  },
  {
   "cell_type": "markdown",
   "metadata": {},
   "source": [
    "## 添加远程库"
   ]
  },
  {
   "cell_type": "markdown",
   "metadata": {},
   "source": [
    "现在的情景是，你已经在本地创建了一个Git仓库后，又想在GitHub创建一个Git仓库，并且让这两个仓库进行远程同步，这样，GitHub上的仓库既可以作为备份，又可以让其他人通过该仓库来协作，真是一举多得。"
   ]
  },
  {
   "cell_type": "markdown",
   "metadata": {},
   "source": [
    "首先，登陆GitHub，然后，在右上角找到“Create a new repo”按钮，创建一个新的仓库："
   ]
  },
  {
   "cell_type": "markdown",
   "metadata": {},
   "source": [
    "在Repository name填入`learngit`，其他保持默认设置，点击“Create repository”按钮，就成功地创建了一个新的Git仓库："
   ]
  },
  {
   "cell_type": "markdown",
   "metadata": {},
   "source": [
    "目前，在GitHub上的这个`learngit`仓库还是空的，GitHub告诉我们，可以从这个仓库克隆出新的仓库，也可以把一个已有的本地仓库与之关联，然后，把本地仓库的内容推送到GitHub仓库。"
   ]
  },
  {
   "cell_type": "markdown",
   "metadata": {},
   "source": [
    "现在，我们根据GitHub的提示，在本地的`learngit`仓库下运行命令："
   ]
  },
  {
   "cell_type": "raw",
   "metadata": {},
   "source": [
    "$ git remote add origin git@github.com:michaelliao/learngit.git"
   ]
  }
 ],
 "metadata": {
  "kernelspec": {
   "display_name": "python base",
   "language": "python",
   "name": "base"
  },
  "language_info": {
   "codemirror_mode": {
    "name": "ipython",
    "version": 3
   },
   "file_extension": ".py",
   "mimetype": "text/x-python",
   "name": "python",
   "nbconvert_exporter": "python",
   "pygments_lexer": "ipython3",
   "version": "3.5.2"
  }
 },
 "nbformat": 4,
 "nbformat_minor": 1
}
